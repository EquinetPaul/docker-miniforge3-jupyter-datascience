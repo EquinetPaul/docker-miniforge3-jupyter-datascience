{
 "cells": [
  {
   "cell_type": "code",
   "execution_count": null,
   "id": "fc246ed4-bf4a-4df6-8ae5-b5085b1bc3e6",
   "metadata": {},
   "outputs": [],
   "source": [
    "import pandas as pd\n",
    "import matplotlib.pyplot as plt"
   ]
  },
  {
   "cell_type": "code",
   "execution_count": null,
   "id": "2cf6cf7a-425e-4964-a08f-0364a8cd7b95",
   "metadata": {},
   "outputs": [],
   "source": [
    "df = pd.read_csv(\"/app/shared/results.csv\", header=None)"
   ]
  },
  {
   "cell_type": "code",
   "execution_count": null,
   "id": "d37fb69b-8559-41b6-bc98-7f91a06d1b7b",
   "metadata": {},
   "outputs": [],
   "source": [
    "plt.scatter(df[2], df[8])"
   ]
  }
 ],
 "metadata": {
  "kernelspec": {
   "display_name": "Python 3 (ipykernel)",
   "language": "python",
   "name": "python3"
  },
  "language_info": {
   "codemirror_mode": {
    "name": "ipython",
    "version": 3
   },
   "file_extension": ".py",
   "mimetype": "text/x-python",
   "name": "python",
   "nbconvert_exporter": "python",
   "pygments_lexer": "ipython3",
   "version": "3.9.12"
  }
 },
 "nbformat": 4,
 "nbformat_minor": 5
}
